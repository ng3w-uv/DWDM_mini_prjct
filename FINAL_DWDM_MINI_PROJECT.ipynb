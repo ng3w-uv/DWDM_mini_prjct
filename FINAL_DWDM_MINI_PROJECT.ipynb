{
  "nbformat": 4,
  "nbformat_minor": 0,
  "metadata": {
    "kernelspec": {
      "display_name": "Python 3",
      "language": "python",
      "name": "python3"
    },
    "language_info": {
      "codemirror_mode": {
        "name": "ipython",
        "version": 3
      },
      "file_extension": ".py",
      "mimetype": "text/x-python",
      "name": "python",
      "nbconvert_exporter": "python",
      "pygments_lexer": "ipython3",
      "version": "3.7.9"
    },
    "colab": {
      "name": "FINAL_DWDM_MINI_PROJECT.ipynb",
      "provenance": [],
      "toc_visible": true,
      "include_colab_link": true
    },
    "accelerator": "GPU"
  },
  "cells": [
    {
      "cell_type": "markdown",
      "metadata": {
        "id": "view-in-github",
        "colab_type": "text"
      },
      "source": [
        "<a href=\"https://colab.research.google.com/github/ng3w-uv/DWDM_mini_prjct/blob/main/FINAL_DWDM_MINI_PROJECT.ipynb\" target=\"_parent\"><img src=\"https://colab.research.google.com/assets/colab-badge.svg\" alt=\"Open In Colab\"/></a>"
      ]
    },
    {
      "cell_type": "markdown",
      "metadata": {
        "id": "GyiswrgVNC-q"
      },
      "source": [
        "## DWDM MINI PROJECT \n",
        "## Group 01\n",
        "**Group Members** : <br>PG 34 Yuvraj S. Chauhan<br>\n",
        "PG 37 Naveen Maheshwari<br>PG 36 Rashmita Chauhan<br>PG 44 Shubham Shail\n",
        "\n",
        "\n",
        "## Problem Statement : \n",
        "**Estimate the sentiment of movie reviews from the Internet Movie Database (IMDb).**\n",
        "\n",
        "### 1. NAIVE BAYES APPROACH\n",
        "\n",
        "**Each word contributes to the final result**"
      ]
    },
    {
      "cell_type": "markdown",
      "metadata": {
        "id": "ja2mHNSfNC-y"
      },
      "source": [
        "#### IMPORTING LIBRARIES\n"
      ]
    },
    {
      "cell_type": "code",
      "metadata": {
        "id": "h8f96tA_NC-z"
      },
      "source": [
        "import time    \n",
        "import numpy as np\n",
        "import matplotlib.pyplot as plt\n",
        "import pandas as pd"
      ],
      "execution_count": 1,
      "outputs": []
    },
    {
      "cell_type": "code",
      "metadata": {
        "colab": {
          "base_uri": "https://localhost:8080/"
        },
        "id": "_CD1gwvkNP54",
        "outputId": "1f9d2c65-b977-4a1f-f93a-026d8985d68b"
      },
      "source": [
        "from google.colab import drive\n",
        "drive.mount('/content/drive')"
      ],
      "execution_count": 2,
      "outputs": [
        {
          "output_type": "stream",
          "name": "stdout",
          "text": [
            "Mounted at /content/drive\n"
          ]
        }
      ]
    },
    {
      "cell_type": "markdown",
      "metadata": {
        "id": "phWo4faINC-2"
      },
      "source": [
        "#### IMPORTING DATASET"
      ]
    },
    {
      "cell_type": "code",
      "metadata": {
        "colab": {
          "base_uri": "https://localhost:8080/",
          "height": 411
        },
        "id": "wbYlf7xbNC-3",
        "outputId": "5aa3775d-3022-4acd-d7c6-979d03ff685e"
      },
      "source": [
        "start=time.time()\n",
        "dataset = pd.read_csv('/content/drive/MyDrive/IMDB Dataset.csv')\n",
        "dataset"
      ],
      "execution_count": 3,
      "outputs": [
        {
          "output_type": "execute_result",
          "data": {
            "text/html": [
              "\n",
              "  <div id=\"df-19ddf77e-3f63-43a7-9d04-19546e6a00b9\">\n",
              "    <div class=\"colab-df-container\">\n",
              "      <div>\n",
              "<style scoped>\n",
              "    .dataframe tbody tr th:only-of-type {\n",
              "        vertical-align: middle;\n",
              "    }\n",
              "\n",
              "    .dataframe tbody tr th {\n",
              "        vertical-align: top;\n",
              "    }\n",
              "\n",
              "    .dataframe thead th {\n",
              "        text-align: right;\n",
              "    }\n",
              "</style>\n",
              "<table border=\"1\" class=\"dataframe\">\n",
              "  <thead>\n",
              "    <tr style=\"text-align: right;\">\n",
              "      <th></th>\n",
              "      <th>review</th>\n",
              "      <th>sentiment</th>\n",
              "    </tr>\n",
              "  </thead>\n",
              "  <tbody>\n",
              "    <tr>\n",
              "      <th>0</th>\n",
              "      <td>One of the other reviewers has mentioned that ...</td>\n",
              "      <td>positive</td>\n",
              "    </tr>\n",
              "    <tr>\n",
              "      <th>1</th>\n",
              "      <td>A wonderful little production. &lt;br /&gt;&lt;br /&gt;The...</td>\n",
              "      <td>positive</td>\n",
              "    </tr>\n",
              "    <tr>\n",
              "      <th>2</th>\n",
              "      <td>I thought this was a wonderful way to spend ti...</td>\n",
              "      <td>positive</td>\n",
              "    </tr>\n",
              "    <tr>\n",
              "      <th>3</th>\n",
              "      <td>Basically there's a family where a little boy ...</td>\n",
              "      <td>negative</td>\n",
              "    </tr>\n",
              "    <tr>\n",
              "      <th>4</th>\n",
              "      <td>Petter Mattei's \"Love in the Time of Money\" is...</td>\n",
              "      <td>positive</td>\n",
              "    </tr>\n",
              "    <tr>\n",
              "      <th>...</th>\n",
              "      <td>...</td>\n",
              "      <td>...</td>\n",
              "    </tr>\n",
              "    <tr>\n",
              "      <th>49995</th>\n",
              "      <td>I thought this movie did a down right good job...</td>\n",
              "      <td>positive</td>\n",
              "    </tr>\n",
              "    <tr>\n",
              "      <th>49996</th>\n",
              "      <td>Bad plot, bad dialogue, bad acting, idiotic di...</td>\n",
              "      <td>negative</td>\n",
              "    </tr>\n",
              "    <tr>\n",
              "      <th>49997</th>\n",
              "      <td>I am a Catholic taught in parochial elementary...</td>\n",
              "      <td>negative</td>\n",
              "    </tr>\n",
              "    <tr>\n",
              "      <th>49998</th>\n",
              "      <td>I'm going to have to disagree with the previou...</td>\n",
              "      <td>negative</td>\n",
              "    </tr>\n",
              "    <tr>\n",
              "      <th>49999</th>\n",
              "      <td>No one expects the Star Trek movies to be high...</td>\n",
              "      <td>negative</td>\n",
              "    </tr>\n",
              "  </tbody>\n",
              "</table>\n",
              "<p>50000 rows × 2 columns</p>\n",
              "</div>\n",
              "      <button class=\"colab-df-convert\" onclick=\"convertToInteractive('df-19ddf77e-3f63-43a7-9d04-19546e6a00b9')\"\n",
              "              title=\"Convert this dataframe to an interactive table.\"\n",
              "              style=\"display:none;\">\n",
              "        \n",
              "  <svg xmlns=\"http://www.w3.org/2000/svg\" height=\"24px\"viewBox=\"0 0 24 24\"\n",
              "       width=\"24px\">\n",
              "    <path d=\"M0 0h24v24H0V0z\" fill=\"none\"/>\n",
              "    <path d=\"M18.56 5.44l.94 2.06.94-2.06 2.06-.94-2.06-.94-.94-2.06-.94 2.06-2.06.94zm-11 1L8.5 8.5l.94-2.06 2.06-.94-2.06-.94L8.5 2.5l-.94 2.06-2.06.94zm10 10l.94 2.06.94-2.06 2.06-.94-2.06-.94-.94-2.06-.94 2.06-2.06.94z\"/><path d=\"M17.41 7.96l-1.37-1.37c-.4-.4-.92-.59-1.43-.59-.52 0-1.04.2-1.43.59L10.3 9.45l-7.72 7.72c-.78.78-.78 2.05 0 2.83L4 21.41c.39.39.9.59 1.41.59.51 0 1.02-.2 1.41-.59l7.78-7.78 2.81-2.81c.8-.78.8-2.07 0-2.86zM5.41 20L4 18.59l7.72-7.72 1.47 1.35L5.41 20z\"/>\n",
              "  </svg>\n",
              "      </button>\n",
              "      \n",
              "  <style>\n",
              "    .colab-df-container {\n",
              "      display:flex;\n",
              "      flex-wrap:wrap;\n",
              "      gap: 12px;\n",
              "    }\n",
              "\n",
              "    .colab-df-convert {\n",
              "      background-color: #E8F0FE;\n",
              "      border: none;\n",
              "      border-radius: 50%;\n",
              "      cursor: pointer;\n",
              "      display: none;\n",
              "      fill: #1967D2;\n",
              "      height: 32px;\n",
              "      padding: 0 0 0 0;\n",
              "      width: 32px;\n",
              "    }\n",
              "\n",
              "    .colab-df-convert:hover {\n",
              "      background-color: #E2EBFA;\n",
              "      box-shadow: 0px 1px 2px rgba(60, 64, 67, 0.3), 0px 1px 3px 1px rgba(60, 64, 67, 0.15);\n",
              "      fill: #174EA6;\n",
              "    }\n",
              "\n",
              "    [theme=dark] .colab-df-convert {\n",
              "      background-color: #3B4455;\n",
              "      fill: #D2E3FC;\n",
              "    }\n",
              "\n",
              "    [theme=dark] .colab-df-convert:hover {\n",
              "      background-color: #434B5C;\n",
              "      box-shadow: 0px 1px 3px 1px rgba(0, 0, 0, 0.15);\n",
              "      filter: drop-shadow(0px 1px 2px rgba(0, 0, 0, 0.3));\n",
              "      fill: #FFFFFF;\n",
              "    }\n",
              "  </style>\n",
              "\n",
              "      <script>\n",
              "        const buttonEl =\n",
              "          document.querySelector('#df-19ddf77e-3f63-43a7-9d04-19546e6a00b9 button.colab-df-convert');\n",
              "        buttonEl.style.display =\n",
              "          google.colab.kernel.accessAllowed ? 'block' : 'none';\n",
              "\n",
              "        async function convertToInteractive(key) {\n",
              "          const element = document.querySelector('#df-19ddf77e-3f63-43a7-9d04-19546e6a00b9');\n",
              "          const dataTable =\n",
              "            await google.colab.kernel.invokeFunction('convertToInteractive',\n",
              "                                                     [key], {});\n",
              "          if (!dataTable) return;\n",
              "\n",
              "          const docLinkHtml = 'Like what you see? Visit the ' +\n",
              "            '<a target=\"_blank\" href=https://colab.research.google.com/notebooks/data_table.ipynb>data table notebook</a>'\n",
              "            + ' to learn more about interactive tables.';\n",
              "          element.innerHTML = '';\n",
              "          dataTable['output_type'] = 'display_data';\n",
              "          await google.colab.output.renderOutput(dataTable, element);\n",
              "          const docLink = document.createElement('div');\n",
              "          docLink.innerHTML = docLinkHtml;\n",
              "          element.appendChild(docLink);\n",
              "        }\n",
              "      </script>\n",
              "    </div>\n",
              "  </div>\n",
              "  "
            ],
            "text/plain": [
              "                                                  review sentiment\n",
              "0      One of the other reviewers has mentioned that ...  positive\n",
              "1      A wonderful little production. <br /><br />The...  positive\n",
              "2      I thought this was a wonderful way to spend ti...  positive\n",
              "3      Basically there's a family where a little boy ...  negative\n",
              "4      Petter Mattei's \"Love in the Time of Money\" is...  positive\n",
              "...                                                  ...       ...\n",
              "49995  I thought this movie did a down right good job...  positive\n",
              "49996  Bad plot, bad dialogue, bad acting, idiotic di...  negative\n",
              "49997  I am a Catholic taught in parochial elementary...  negative\n",
              "49998  I'm going to have to disagree with the previou...  negative\n",
              "49999  No one expects the Star Trek movies to be high...  negative\n",
              "\n",
              "[50000 rows x 2 columns]"
            ]
          },
          "metadata": {},
          "execution_count": 3
        }
      ]
    },
    {
      "cell_type": "markdown",
      "metadata": {
        "id": "ZUtY27ZTNC-4"
      },
      "source": [
        "#### DOWNLOAD STOPWORD FILES"
      ]
    },
    {
      "cell_type": "code",
      "metadata": {
        "colab": {
          "base_uri": "https://localhost:8080/"
        },
        "id": "Y9m_BtwTNC-5",
        "outputId": "e8ddc83c-759f-4d8a-a0b6-8f7a88cad4a1"
      },
      "source": [
        "#the words which create problem for sentences and create disturbance for analysis\n",
        "import re\n",
        "import nltk\n",
        "nltk.download('stopwords')"
      ],
      "execution_count": 4,
      "outputs": [
        {
          "output_type": "stream",
          "name": "stdout",
          "text": [
            "[nltk_data] Downloading package stopwords to /root/nltk_data...\n",
            "[nltk_data]   Unzipping corpora/stopwords.zip.\n"
          ]
        },
        {
          "output_type": "execute_result",
          "data": {
            "text/plain": [
              "True"
            ]
          },
          "metadata": {},
          "execution_count": 4
        }
      ]
    },
    {
      "cell_type": "markdown",
      "metadata": {
        "id": "YuXh9hw_NC--"
      },
      "source": [
        "#### USAGE OF STOP WORD FILES"
      ]
    },
    {
      "cell_type": "code",
      "metadata": {
        "id": "GzFqnw8PNC_A"
      },
      "source": [
        "\n",
        "#Raw text-> segmentation and tokenization -> cleaning(removing ing & similar) ->count vectoriztion -> stemming -> training ->test\n",
        "\n",
        "#data pre proc\n",
        "\n",
        "stopstart=time.time()\n",
        "from nltk.corpus import stopwords\n",
        "from nltk.stem.porter import PorterStemmer\n",
        "corpus = []\n",
        "for i in range(0, 50000):\n",
        "  review = re.sub('[^a-zA-Z]', ' ', dataset['review'][i])\n",
        "  review = review.lower()\n",
        "  review = review.split()\n",
        "  ps = PorterStemmer()\n",
        "  all_stopwords = stopwords.words('english')\n",
        "  all_stopwords.remove('not')\n",
        "  review = [ps.stem(word) for word in review if not word in set(all_stopwords)]   \n",
        "  review = ' '.join(review)\n",
        "  corpus.append(review)\n",
        "stopend=time.time()"
      ],
      "execution_count": 5,
      "outputs": []
    },
    {
      "cell_type": "markdown",
      "metadata": {
        "id": "L9U7MORlNC_D"
      },
      "source": [
        "#### APPLYING FEATURE EXTRACTION"
      ]
    },
    {
      "cell_type": "code",
      "metadata": {
        "colab": {
          "base_uri": "https://localhost:8080/"
        },
        "id": "uGhUtlh1NC_F",
        "outputId": "4fbf6ca1-453a-4076-d337-15fac58754c8"
      },
      "source": [
        "from sklearn.feature_extraction.text import CountVectorizer\n",
        "cv = CountVectorizer(max_features = 1500)\n",
        "X = cv.fit_transform(corpus).toarray()\n",
        "y = dataset.iloc[:, -1].values\n",
        "print(X)#review statements\n",
        "print(y)#classes"
      ],
      "execution_count": 6,
      "outputs": [
        {
          "output_type": "stream",
          "name": "stdout",
          "text": [
            "[[0 0 0 ... 0 0 0]\n",
            " [0 0 0 ... 0 0 0]\n",
            " [0 0 0 ... 0 0 0]\n",
            " ...\n",
            " [0 0 0 ... 0 0 0]\n",
            " [0 0 0 ... 0 0 0]\n",
            " [0 0 0 ... 0 0 0]]\n",
            "['positive' 'positive' 'positive' ... 'negative' 'negative' 'negative']\n"
          ]
        }
      ]
    },
    {
      "cell_type": "markdown",
      "metadata": {
        "id": "_u5WA6DmNC_G"
      },
      "source": [
        "#### GAUSSIAN RULE"
      ]
    },
    {
      "cell_type": "code",
      "metadata": {
        "colab": {
          "base_uri": "https://localhost:8080/"
        },
        "id": "G1SAxH3pNC_H",
        "outputId": "1928a43d-1584-4553-8f26-ddf59389399f"
      },
      "source": [
        "#80% training and rest testing purpose\n",
        "#naive bayes approach -- a particular is contributing to final review\n",
        "\n",
        "from sklearn.model_selection import train_test_split\n",
        "X_train, X_test, y_train, y_test = train_test_split(X, y, test_size = 0.20, random_state = 0)\n",
        "from sklearn.naive_bayes import GaussianNB\n",
        "classifier = GaussianNB()\n",
        "classifier.fit(X_train,y_train)\n",
        "y_pred = classifier.predict(X_test)\n",
        "print(len(y_pred))\n",
        "print(len(y_test))\n",
        "first20=np.concatenate((y_pred.reshape(len(y_pred),1), y_test.reshape(len(y_test),1)),1)\n",
        "print(np.concatenate((y_pred.reshape(len(y_pred),1), y_test.reshape(len(y_test),1)),1))"
      ],
      "execution_count": 7,
      "outputs": [
        {
          "output_type": "stream",
          "name": "stdout",
          "text": [
            "10000\n",
            "10000\n",
            "[['positive' 'positive']\n",
            " ['negative' 'negative']\n",
            " ['positive' 'negative']\n",
            " ...\n",
            " ['positive' 'positive']\n",
            " ['negative' 'positive']\n",
            " ['negative' 'negative']]\n"
          ]
        }
      ]
    },
    {
      "cell_type": "markdown",
      "metadata": {
        "id": "Ntpd-xhgNC_J"
      },
      "source": [
        "#### CONFUSION MATRIX AND ACCURACY SCORE"
      ]
    },
    {
      "cell_type": "code",
      "metadata": {
        "colab": {
          "base_uri": "https://localhost:8080/"
        },
        "id": "vZnsU98hNC_K",
        "outputId": "afcb3c66-a7d9-401d-98b2-2d617b874dff"
      },
      "source": [
        "from sklearn.metrics import confusion_matrix, accuracy_score\n",
        "cm = confusion_matrix(y_test, y_pred)\n",
        "print(cm)\n",
        "print(accuracy_score(y_test, y_pred))\n",
        "end=time.time()\n",
        "print(\"TIME REQUIRED FOR THE JOURNEY\")\n",
        "totaltime=end-start\n",
        "print(totaltime)"
      ],
      "execution_count": 8,
      "outputs": [
        {
          "output_type": "stream",
          "name": "stdout",
          "text": [
            "[[4302  733]\n",
            " [1646 3319]]\n",
            "0.7621\n",
            "TIME REQUIRED FOR THE JOURNEY\n",
            "213.53141927719116\n"
          ]
        }
      ]
    },
    {
      "cell_type": "code",
      "metadata": {
        "colab": {
          "base_uri": "https://localhost:8080/"
        },
        "id": "VCmD4hq2NC_L",
        "outputId": "6c085613-7969-45f9-b2b7-b732d0dc4222"
      },
      "source": [
        "from sklearn.metrics import classification_report\n",
        "\n",
        "a=classification_report(y_test,y_pred)\n",
        "\n",
        "print(\"Report:\\n\")\n",
        "\n",
        "print(classification_report(y_test,y_pred))"
      ],
      "execution_count": 9,
      "outputs": [
        {
          "output_type": "stream",
          "name": "stdout",
          "text": [
            "Report:\n",
            "\n",
            "              precision    recall  f1-score   support\n",
            "\n",
            "    negative       0.72      0.85      0.78      5035\n",
            "    positive       0.82      0.67      0.74      4965\n",
            "\n",
            "    accuracy                           0.76     10000\n",
            "   macro avg       0.77      0.76      0.76     10000\n",
            "weighted avg       0.77      0.76      0.76     10000\n",
            "\n"
          ]
        }
      ]
    },
    {
      "cell_type": "markdown",
      "metadata": {
        "id": "04yHtN4mNC_M"
      },
      "source": [
        "### 2. DEEP LEARNING APPROACH"
      ]
    },
    {
      "cell_type": "markdown",
      "source": [
        "#### IMPORTING LIBRARIES"
      ],
      "metadata": {
        "id": "Z7xIKkWR8sJq"
      }
    },
    {
      "cell_type": "markdown",
      "metadata": {
        "id": "esqZBu0sNC_N"
      },
      "source": [
        "#### IMPORTING DATASET"
      ]
    },
    {
      "cell_type": "code",
      "metadata": {
        "id": "2Xq8PWS_NC_O"
      },
      "source": [
        "import numpy as np\n",
        "import matplotlib.pyplot as plt\n",
        "import pandas as pd\n",
        "import time\n",
        "\n",
        "start=time.time()\n"
      ],
      "execution_count": 10,
      "outputs": []
    },
    {
      "cell_type": "markdown",
      "metadata": {
        "id": "IH3ucuz_NC_P"
      },
      "source": [
        "#### CLEANING THE TEXT"
      ]
    },
    {
      "cell_type": "code",
      "metadata": {
        "id": "Ni50ROPMNC_Q"
      },
      "source": [
        "# import re\n",
        "# import nltk\n",
        "# nltk.download('stopwords')\n",
        "# from nltk.corpus import stopwords\n",
        "# from nltk.stem.porter import PorterStemmer\n",
        "# corpus = []\n",
        "# for i in range(0, 50000):\n",
        "#     review = re.sub('[^a-zA-Z]', ' ', dataset1['review'][i])\n",
        "#     review = review.lower()\n",
        "#     review = review.split()\n",
        "#     ps = PorterStemmer()\n",
        "#     review = [ps.stem(word) for word in review if not word in set(stopwords.words('english'))]\n",
        "#     review = ' '.join(review)\n",
        "#     corpus.append(review)\n",
        "#     #print(\"done\")\n"
      ],
      "execution_count": 11,
      "outputs": []
    },
    {
      "cell_type": "markdown",
      "metadata": {
        "id": "qe6N-CwINC_Q"
      },
      "source": [
        "#### Creating the Bag of Words model"
      ]
    },
    {
      "cell_type": "code",
      "metadata": {
        "colab": {
          "base_uri": "https://localhost:8080/"
        },
        "id": "NKU3ihyuNC_R",
        "outputId": "6eda2501-07be-4fd2-9722-73c851025e68"
      },
      "source": [
        "\n",
        "from sklearn.feature_extraction.text import CountVectorizer\n",
        "cv = CountVectorizer(max_features = 1500)\n",
        "X = cv.fit_transform(corpus).toarray()\n",
        "y = dataset.iloc[:, 1].values\n",
        "print(len(y))\n",
        "print(\"done\")\n",
        "#print(x)\n",
        "l=[]\n",
        "for i in range(0,len(y)):\n",
        "    if(y[i]==\"positive\"):\n",
        "        l.append(0)\n",
        "    elif(y[i]==\"negative\"):\n",
        "        l.append(1)\n",
        "    else:\n",
        "        l.append(2)\n",
        "print(len(l))    \n",
        "    \n",
        "l = np.array(l)\n",
        "print(X)\n",
        "print(y)\n",
        "\n",
        "from sklearn.model_selection import train_test_split\n",
        "X_train, X_test, y_train, y_test = train_test_split(X, l, test_size = 0.2, random_state = 0)\n"
      ],
      "execution_count": 12,
      "outputs": [
        {
          "output_type": "stream",
          "name": "stdout",
          "text": [
            "50000\n",
            "done\n",
            "50000\n",
            "[[0 0 0 ... 0 0 0]\n",
            " [0 0 0 ... 0 0 0]\n",
            " [0 0 0 ... 0 0 0]\n",
            " ...\n",
            " [0 0 0 ... 0 0 0]\n",
            " [0 0 0 ... 0 0 0]\n",
            " [0 0 0 ... 0 0 0]]\n",
            "['positive' 'positive' 'positive' ... 'negative' 'negative' 'negative']\n"
          ]
        }
      ]
    },
    {
      "cell_type": "markdown",
      "metadata": {
        "id": "SkrdGaIqNC_S"
      },
      "source": [
        "#### First model implemented\n",
        "#### Applying the ANN"
      ]
    },
    {
      "cell_type": "code",
      "metadata": {
        "colab": {
          "base_uri": "https://localhost:8080/"
        },
        "id": "jchYRD61NC_T",
        "outputId": "3a593ff4-071b-47d1-b65f-aa54b5950613"
      },
      "source": [
        "\n",
        "from sklearn.preprocessing import StandardScaler\n",
        "sc=StandardScaler()\n",
        "X_train = sc.fit_transform(X_train)\n",
        "X_test = sc.transform(X_test)\n",
        "print(\"done\")"
      ],
      "execution_count": 13,
      "outputs": [
        {
          "output_type": "stream",
          "name": "stdout",
          "text": [
            "done\n"
          ]
        }
      ]
    },
    {
      "cell_type": "markdown",
      "metadata": {
        "id": "3f2JrhpsNC_T"
      },
      "source": [
        "### part lets make the ann"
      ]
    },
    {
      "cell_type": "code",
      "metadata": {
        "colab": {
          "base_uri": "https://localhost:8080/"
        },
        "id": "auks54vINC_U",
        "outputId": "16f81806-0f8b-46d4-9d25-557139460298"
      },
      "source": [
        "print(\"starting the ann\")\n",
        "import keras\n",
        "from keras.models import Sequential\n",
        "from keras.layers import Dense\n",
        "\n",
        "print(\"start\")\n",
        "#initialize the ann\n",
        "classi=Sequential()\n",
        "\n",
        "#adding the input layer and first hidden layers\n",
        "classi.add(Dense(units=3,kernel_initializer='uniform',activation='relu',input_dim=1500))\n",
        "\n",
        "#adding the second hidden layer\n",
        "classi.add(Dense(units=3,kernel_initializer='uniform',activation='relu',input_dim=1500))\n",
        "\n",
        "#adding the output layers\n",
        "classi.add(Dense(units=1,kernel_initializer='uniform',activation='sigmoid'))\n",
        "\n",
        "#compiling the ann\n",
        "classi.compile(optimizer='adam',loss='binary_crossentropy', metrics=['accuracy'])\n",
        "\n",
        "#fitting the ANN\n",
        "c1=classi.fit(X_train,y_train,batch_size=10,epochs=100)\n",
        "\n",
        "print(\"done\")\n",
        "print(c1)"
      ],
      "execution_count": 14,
      "outputs": [
        {
          "output_type": "stream",
          "name": "stdout",
          "text": [
            "starting the ann\n",
            "start\n",
            "Epoch 1/100\n",
            "4000/4000 [==============================] - 13s 3ms/step - loss: 0.3455 - accuracy: 0.8487\n",
            "Epoch 2/100\n",
            "4000/4000 [==============================] - 12s 3ms/step - loss: 0.2779 - accuracy: 0.8809\n",
            "Epoch 3/100\n",
            "4000/4000 [==============================] - 11s 3ms/step - loss: 0.2647 - accuracy: 0.8861\n",
            "Epoch 4/100\n",
            "4000/4000 [==============================] - 11s 3ms/step - loss: 0.2566 - accuracy: 0.8920\n",
            "Epoch 5/100\n",
            "4000/4000 [==============================] - 11s 3ms/step - loss: 0.2488 - accuracy: 0.8960\n",
            "Epoch 6/100\n",
            "4000/4000 [==============================] - 11s 3ms/step - loss: 0.2442 - accuracy: 0.8985\n",
            "Epoch 7/100\n",
            "4000/4000 [==============================] - 11s 3ms/step - loss: 0.2389 - accuracy: 0.9018\n",
            "Epoch 8/100\n",
            "4000/4000 [==============================] - 11s 3ms/step - loss: 0.2352 - accuracy: 0.9038\n",
            "Epoch 9/100\n",
            "4000/4000 [==============================] - 11s 3ms/step - loss: 0.2320 - accuracy: 0.9054\n",
            "Epoch 10/100\n",
            "4000/4000 [==============================] - 11s 3ms/step - loss: 0.2291 - accuracy: 0.9073\n",
            "Epoch 11/100\n",
            "4000/4000 [==============================] - 11s 3ms/step - loss: 0.2258 - accuracy: 0.9096\n",
            "Epoch 12/100\n",
            "4000/4000 [==============================] - 11s 3ms/step - loss: 0.2238 - accuracy: 0.9100\n",
            "Epoch 13/100\n",
            "4000/4000 [==============================] - 11s 3ms/step - loss: 0.2216 - accuracy: 0.9125\n",
            "Epoch 14/100\n",
            "4000/4000 [==============================] - 11s 3ms/step - loss: 0.2194 - accuracy: 0.9136\n",
            "Epoch 15/100\n",
            "4000/4000 [==============================] - 11s 3ms/step - loss: 0.2177 - accuracy: 0.9147\n",
            "Epoch 16/100\n",
            "4000/4000 [==============================] - 11s 3ms/step - loss: 0.2156 - accuracy: 0.9162\n",
            "Epoch 17/100\n",
            "4000/4000 [==============================] - 11s 3ms/step - loss: 0.2139 - accuracy: 0.9170\n",
            "Epoch 18/100\n",
            "4000/4000 [==============================] - 11s 3ms/step - loss: 0.2121 - accuracy: 0.9196\n",
            "Epoch 19/100\n",
            "4000/4000 [==============================] - 11s 3ms/step - loss: 0.2113 - accuracy: 0.9187\n",
            "Epoch 20/100\n",
            "4000/4000 [==============================] - 11s 3ms/step - loss: 0.2096 - accuracy: 0.9197\n",
            "Epoch 21/100\n",
            "4000/4000 [==============================] - 11s 3ms/step - loss: 0.2085 - accuracy: 0.9203\n",
            "Epoch 22/100\n",
            "4000/4000 [==============================] - 11s 3ms/step - loss: 0.2076 - accuracy: 0.9209\n",
            "Epoch 23/100\n",
            "4000/4000 [==============================] - 11s 3ms/step - loss: 0.2058 - accuracy: 0.9240\n",
            "Epoch 24/100\n",
            "4000/4000 [==============================] - 11s 3ms/step - loss: 0.2051 - accuracy: 0.9238\n",
            "Epoch 25/100\n",
            "4000/4000 [==============================] - 11s 3ms/step - loss: 0.2033 - accuracy: 0.9250\n",
            "Epoch 26/100\n",
            "4000/4000 [==============================] - 11s 3ms/step - loss: 0.2027 - accuracy: 0.9251\n",
            "Epoch 27/100\n",
            "4000/4000 [==============================] - 11s 3ms/step - loss: 0.2022 - accuracy: 0.9256\n",
            "Epoch 28/100\n",
            "4000/4000 [==============================] - 11s 3ms/step - loss: 0.2008 - accuracy: 0.9272\n",
            "Epoch 29/100\n",
            "4000/4000 [==============================] - 11s 3ms/step - loss: 0.2008 - accuracy: 0.9265\n",
            "Epoch 30/100\n",
            "4000/4000 [==============================] - 11s 3ms/step - loss: 0.1992 - accuracy: 0.9282\n",
            "Epoch 31/100\n",
            "4000/4000 [==============================] - 17s 4ms/step - loss: 0.1986 - accuracy: 0.9278\n",
            "Epoch 32/100\n",
            "4000/4000 [==============================] - 15s 4ms/step - loss: 0.1977 - accuracy: 0.9289\n",
            "Epoch 33/100\n",
            "4000/4000 [==============================] - 11s 3ms/step - loss: 0.1964 - accuracy: 0.9301\n",
            "Epoch 34/100\n",
            "4000/4000 [==============================] - 11s 3ms/step - loss: 0.1964 - accuracy: 0.9296\n",
            "Epoch 35/100\n",
            "4000/4000 [==============================] - 11s 3ms/step - loss: 0.1951 - accuracy: 0.9297\n",
            "Epoch 36/100\n",
            "4000/4000 [==============================] - 11s 3ms/step - loss: 0.1949 - accuracy: 0.9306\n",
            "Epoch 37/100\n",
            "4000/4000 [==============================] - 11s 3ms/step - loss: 0.1935 - accuracy: 0.9310\n",
            "Epoch 38/100\n",
            "4000/4000 [==============================] - 11s 3ms/step - loss: 0.1927 - accuracy: 0.9318\n",
            "Epoch 39/100\n",
            "4000/4000 [==============================] - 11s 3ms/step - loss: 0.1920 - accuracy: 0.9323\n",
            "Epoch 40/100\n",
            "4000/4000 [==============================] - 12s 3ms/step - loss: 0.1914 - accuracy: 0.9324\n",
            "Epoch 41/100\n",
            "4000/4000 [==============================] - 12s 3ms/step - loss: 0.1909 - accuracy: 0.9325\n",
            "Epoch 42/100\n",
            "4000/4000 [==============================] - 11s 3ms/step - loss: 0.1898 - accuracy: 0.9339\n",
            "Epoch 43/100\n",
            "4000/4000 [==============================] - 11s 3ms/step - loss: 0.1890 - accuracy: 0.9341\n",
            "Epoch 44/100\n",
            "4000/4000 [==============================] - 11s 3ms/step - loss: 0.1884 - accuracy: 0.9340\n",
            "Epoch 45/100\n",
            "4000/4000 [==============================] - 11s 3ms/step - loss: 0.1879 - accuracy: 0.9348\n",
            "Epoch 46/100\n",
            "4000/4000 [==============================] - 11s 3ms/step - loss: 0.1872 - accuracy: 0.9349\n",
            "Epoch 47/100\n",
            "4000/4000 [==============================] - 12s 3ms/step - loss: 0.1865 - accuracy: 0.9357\n",
            "Epoch 48/100\n",
            "4000/4000 [==============================] - 11s 3ms/step - loss: 0.1846 - accuracy: 0.9358\n",
            "Epoch 49/100\n",
            "4000/4000 [==============================] - 11s 3ms/step - loss: 0.1857 - accuracy: 0.9359\n",
            "Epoch 50/100\n",
            "4000/4000 [==============================] - 11s 3ms/step - loss: 0.1838 - accuracy: 0.9374\n",
            "Epoch 51/100\n",
            "4000/4000 [==============================] - 11s 3ms/step - loss: 0.1830 - accuracy: 0.9378\n",
            "Epoch 52/100\n",
            "4000/4000 [==============================] - 11s 3ms/step - loss: 0.1819 - accuracy: 0.9381\n",
            "Epoch 53/100\n",
            "4000/4000 [==============================] - 11s 3ms/step - loss: 0.1817 - accuracy: 0.9379\n",
            "Epoch 54/100\n",
            "4000/4000 [==============================] - 11s 3ms/step - loss: 0.1815 - accuracy: 0.9384\n",
            "Epoch 55/100\n",
            "4000/4000 [==============================] - 11s 3ms/step - loss: 0.1806 - accuracy: 0.9385\n",
            "Epoch 56/100\n",
            "4000/4000 [==============================] - 11s 3ms/step - loss: 0.1805 - accuracy: 0.9380\n",
            "Epoch 57/100\n",
            "4000/4000 [==============================] - 11s 3ms/step - loss: 0.1799 - accuracy: 0.9388\n",
            "Epoch 58/100\n",
            "4000/4000 [==============================] - 11s 3ms/step - loss: 0.1789 - accuracy: 0.9397\n",
            "Epoch 59/100\n",
            "4000/4000 [==============================] - 11s 3ms/step - loss: 0.1786 - accuracy: 0.9397\n",
            "Epoch 60/100\n",
            "4000/4000 [==============================] - 11s 3ms/step - loss: 0.1781 - accuracy: 0.9397\n",
            "Epoch 61/100\n",
            "4000/4000 [==============================] - 11s 3ms/step - loss: 0.1771 - accuracy: 0.9408\n",
            "Epoch 62/100\n",
            "4000/4000 [==============================] - 12s 3ms/step - loss: 0.1775 - accuracy: 0.9408\n",
            "Epoch 63/100\n",
            "4000/4000 [==============================] - 11s 3ms/step - loss: 0.1767 - accuracy: 0.9405\n",
            "Epoch 64/100\n",
            "4000/4000 [==============================] - 11s 3ms/step - loss: 0.1756 - accuracy: 0.9417\n",
            "Epoch 65/100\n",
            "4000/4000 [==============================] - 11s 3ms/step - loss: 0.1761 - accuracy: 0.9415\n",
            "Epoch 66/100\n",
            "4000/4000 [==============================] - 11s 3ms/step - loss: 0.1751 - accuracy: 0.9422\n",
            "Epoch 67/100\n",
            "4000/4000 [==============================] - 11s 3ms/step - loss: 0.1741 - accuracy: 0.9419\n",
            "Epoch 68/100\n",
            "4000/4000 [==============================] - 12s 3ms/step - loss: 0.1750 - accuracy: 0.9412\n",
            "Epoch 69/100\n",
            "4000/4000 [==============================] - 12s 3ms/step - loss: 0.1739 - accuracy: 0.9429\n",
            "Epoch 70/100\n",
            "4000/4000 [==============================] - 11s 3ms/step - loss: 0.1740 - accuracy: 0.9417\n",
            "Epoch 71/100\n",
            "4000/4000 [==============================] - 12s 3ms/step - loss: 0.1730 - accuracy: 0.9427\n",
            "Epoch 72/100\n",
            "4000/4000 [==============================] - 11s 3ms/step - loss: 0.1730 - accuracy: 0.9430\n",
            "Epoch 73/100\n",
            "4000/4000 [==============================] - 11s 3ms/step - loss: 0.1718 - accuracy: 0.9436\n",
            "Epoch 74/100\n",
            "4000/4000 [==============================] - 12s 3ms/step - loss: 0.1726 - accuracy: 0.9428\n",
            "Epoch 75/100\n",
            "4000/4000 [==============================] - 12s 3ms/step - loss: 0.1713 - accuracy: 0.9441\n",
            "Epoch 76/100\n",
            "4000/4000 [==============================] - 11s 3ms/step - loss: 0.1718 - accuracy: 0.9437\n",
            "Epoch 77/100\n",
            "4000/4000 [==============================] - 12s 3ms/step - loss: 0.1713 - accuracy: 0.9441\n",
            "Epoch 78/100\n",
            "4000/4000 [==============================] - 11s 3ms/step - loss: 0.1709 - accuracy: 0.9442\n",
            "Epoch 79/100\n",
            "4000/4000 [==============================] - 11s 3ms/step - loss: 0.1718 - accuracy: 0.9433\n",
            "Epoch 80/100\n",
            "4000/4000 [==============================] - 11s 3ms/step - loss: 0.1702 - accuracy: 0.9440\n",
            "Epoch 81/100\n",
            "4000/4000 [==============================] - 11s 3ms/step - loss: 0.1697 - accuracy: 0.9441\n",
            "Epoch 82/100\n",
            "4000/4000 [==============================] - 11s 3ms/step - loss: 0.1692 - accuracy: 0.9444\n",
            "Epoch 83/100\n",
            "4000/4000 [==============================] - 12s 3ms/step - loss: 0.1691 - accuracy: 0.9448\n",
            "Epoch 84/100\n",
            "4000/4000 [==============================] - 11s 3ms/step - loss: 0.1694 - accuracy: 0.9445\n",
            "Epoch 85/100\n",
            "4000/4000 [==============================] - 12s 3ms/step - loss: 0.1688 - accuracy: 0.9449\n",
            "Epoch 86/100\n",
            "4000/4000 [==============================] - 12s 3ms/step - loss: 0.1690 - accuracy: 0.9446\n",
            "Epoch 87/100\n",
            "4000/4000 [==============================] - 11s 3ms/step - loss: 0.1681 - accuracy: 0.9447\n",
            "Epoch 88/100\n",
            "4000/4000 [==============================] - 12s 3ms/step - loss: 0.1688 - accuracy: 0.9449\n",
            "Epoch 89/100\n",
            "4000/4000 [==============================] - 11s 3ms/step - loss: 0.1686 - accuracy: 0.9446\n",
            "Epoch 90/100\n",
            "4000/4000 [==============================] - 11s 3ms/step - loss: 0.1689 - accuracy: 0.9449\n",
            "Epoch 91/100\n",
            "4000/4000 [==============================] - 11s 3ms/step - loss: 0.1667 - accuracy: 0.9453\n",
            "Epoch 92/100\n",
            "4000/4000 [==============================] - 11s 3ms/step - loss: 0.1676 - accuracy: 0.9449\n",
            "Epoch 93/100\n",
            "4000/4000 [==============================] - 11s 3ms/step - loss: 0.1666 - accuracy: 0.9454\n",
            "Epoch 94/100\n",
            "4000/4000 [==============================] - 12s 3ms/step - loss: 0.1675 - accuracy: 0.9447\n",
            "Epoch 95/100\n",
            "4000/4000 [==============================] - 11s 3ms/step - loss: 0.1657 - accuracy: 0.9464\n",
            "Epoch 96/100\n",
            "4000/4000 [==============================] - 11s 3ms/step - loss: 0.1667 - accuracy: 0.9457\n",
            "Epoch 97/100\n",
            "4000/4000 [==============================] - 12s 3ms/step - loss: 0.1657 - accuracy: 0.9460\n",
            "Epoch 98/100\n",
            "4000/4000 [==============================] - 12s 3ms/step - loss: 0.1670 - accuracy: 0.9452\n",
            "Epoch 99/100\n",
            "4000/4000 [==============================] - 12s 3ms/step - loss: 0.1644 - accuracy: 0.9467\n",
            "Epoch 100/100\n",
            "4000/4000 [==============================] - 11s 3ms/step - loss: 0.1654 - accuracy: 0.9459\n",
            "done\n",
            "<keras.callbacks.History object at 0x7f6d906dba50>\n"
          ]
        }
      ]
    },
    {
      "cell_type": "code",
      "metadata": {
        "colab": {
          "base_uri": "https://localhost:8080/"
        },
        "id": "yaawhAwMNC_V",
        "outputId": "7a1c7989-b666-4466-a53a-62563abadf1d"
      },
      "source": [
        "y_pred = classi.predict(X_test)\n",
        "y_pred = (y_pred > 0.5)\n",
        "first2_20=(np.concatenate((y_pred.reshape(len(y_pred),1), y_test.reshape(len(y_test),1)),1))\n",
        "print(np.concatenate((y_pred.reshape(len(y_pred),1), y_test.reshape(len(y_test),1)),1))\n"
      ],
      "execution_count": 15,
      "outputs": [
        {
          "output_type": "stream",
          "name": "stdout",
          "text": [
            "[[0 0]\n",
            " [1 1]\n",
            " [0 1]\n",
            " ...\n",
            " [0 0]\n",
            " [1 0]\n",
            " [1 1]]\n"
          ]
        }
      ]
    },
    {
      "cell_type": "code",
      "metadata": {
        "colab": {
          "base_uri": "https://localhost:8080/"
        },
        "id": "vczsJAWENC_W",
        "outputId": "ccc7c6a8-b277-4ad7-af92-430b90eb775c"
      },
      "source": [
        "from sklearn.metrics import confusion_matrix, accuracy_score\n",
        "cm = confusion_matrix(y_test, y_pred)\n",
        "print(cm)\n",
        "print(accuracy_score(y_test, y_pred))\n",
        "end=time.time()\n",
        "print(\"TIME REQUIRED FOR THE JOURNEY\")\n",
        "totaltime2=(end-start)+(stopend-stopstart)\n",
        "print(totaltime2)"
      ],
      "execution_count": 16,
      "outputs": [
        {
          "output_type": "stream",
          "name": "stdout",
          "text": [
            "[[4146  819]\n",
            " [ 721 4314]]\n",
            "0.846\n",
            "TIME REQUIRED FOR THE JOURNEY\n",
            "1378.667848110199\n"
          ]
        }
      ]
    },
    {
      "cell_type": "code",
      "metadata": {
        "colab": {
          "base_uri": "https://localhost:8080/"
        },
        "id": "uT1J8RDiNC_W",
        "outputId": "cd45aa09-9bf0-4b84-ab2d-7c0a2bf37d8a"
      },
      "source": [
        "b=classification_report(y_test,y_pred)\n",
        "print(\"Report:\\n\")\n",
        "print(classification_report(y_test,y_pred))\n"
      ],
      "execution_count": 17,
      "outputs": [
        {
          "output_type": "stream",
          "name": "stdout",
          "text": [
            "Report:\n",
            "\n",
            "              precision    recall  f1-score   support\n",
            "\n",
            "           0       0.85      0.84      0.84      4965\n",
            "           1       0.84      0.86      0.85      5035\n",
            "\n",
            "    accuracy                           0.85     10000\n",
            "   macro avg       0.85      0.85      0.85     10000\n",
            "weighted avg       0.85      0.85      0.85     10000\n",
            "\n"
          ]
        }
      ]
    },
    {
      "cell_type": "markdown",
      "source": [
        "### RNN with LSTM Approach"
      ],
      "metadata": {
        "id": "HQTSyzjWBNxO"
      }
    },
    {
      "cell_type": "code",
      "metadata": {
        "id": "qePSHoGLNC_Y"
      },
      "source": [
        "\n",
        " "
      ],
      "execution_count": 17,
      "outputs": []
    },
    {
      "cell_type": "code",
      "metadata": {
        "id": "qCJ12hu8PWNM"
      },
      "source": [
        "# For recurrent Neural Network\n",
        "from keras.datasets import imdb\n",
        "from keras.preprocessing import sequence\n",
        "import keras\n",
        "import tensorflow as tf\n",
        "import os\n",
        "import numpy as np"
      ],
      "execution_count": 18,
      "outputs": []
    },
    {
      "cell_type": "code",
      "metadata": {
        "id": "gWaNNEqxRjKu"
      },
      "source": [
        "import pandas as pd    # to load dataset\n",
        "import numpy as np     # for mathematic equation\n",
        "from nltk.corpus import stopwords   # to get collection of stopwords\n",
        "from sklearn.model_selection import train_test_split       # for splitting dataset\n",
        "from tensorflow.keras.preprocessing.text import Tokenizer  # to encode text to int\n",
        "from tensorflow.keras.preprocessing.sequence import pad_sequences   # to do padding or truncating\n",
        "from tensorflow.keras.models import Sequential     # the model\n",
        "from tensorflow.keras.layers import Embedding, LSTM, Dense # layers of the architecture\n",
        "from tensorflow.keras.callbacks import ModelCheckpoint   # save model\n",
        "from tensorflow.keras.models import load_model   # load saved model\n",
        "import re"
      ],
      "execution_count": 19,
      "outputs": []
    },
    {
      "cell_type": "code",
      "metadata": {
        "colab": {
          "base_uri": "https://localhost:8080/"
        },
        "id": "EhHkWvP8UL9q",
        "outputId": "19ef1558-e3a9-4bdf-bf65-e93c29d36145"
      },
      "source": [
        "data = pd.read_csv('/content/drive/MyDrive/IMDB Dataset.csv')\n",
        "print(data)"
      ],
      "execution_count": 20,
      "outputs": [
        {
          "output_type": "stream",
          "name": "stdout",
          "text": [
            "                                                  review sentiment\n",
            "0      One of the other reviewers has mentioned that ...  positive\n",
            "1      A wonderful little production. <br /><br />The...  positive\n",
            "2      I thought this was a wonderful way to spend ti...  positive\n",
            "3      Basically there's a family where a little boy ...  negative\n",
            "4      Petter Mattei's \"Love in the Time of Money\" is...  positive\n",
            "...                                                  ...       ...\n",
            "49995  I thought this movie did a down right good job...  positive\n",
            "49996  Bad plot, bad dialogue, bad acting, idiotic di...  negative\n",
            "49997  I am a Catholic taught in parochial elementary...  negative\n",
            "49998  I'm going to have to disagree with the previou...  negative\n",
            "49999  No one expects the Star Trek movies to be high...  negative\n",
            "\n",
            "[50000 rows x 2 columns]\n"
          ]
        }
      ]
    },
    {
      "cell_type": "code",
      "metadata": {
        "id": "ThQc_MTIUV7K"
      },
      "source": [
        "english_stops = set(stopwords.words('english'))"
      ],
      "execution_count": 21,
      "outputs": []
    },
    {
      "cell_type": "code",
      "metadata": {
        "colab": {
          "base_uri": "https://localhost:8080/"
        },
        "id": "XdsloC_0UaaS",
        "outputId": "c0d3683e-f03b-41b2-cacc-6e68ecdc57f1"
      },
      "source": [
        "def load_dataset():\n",
        "    df = pd.read_csv('/content/drive/MyDrive/IMDB Dataset.csv')\n",
        "    x_data = df['review']       # Reviews/Input\n",
        "    y_data = df['sentiment']    # Sentiment/Output\n",
        "\n",
        "    # PRE-PROCESS REVIEW\n",
        "    x_data = x_data.replace({'<.*?>': ''}, regex = True)          # remove html tag\n",
        "    x_data = x_data.replace({'[^A-Za-z]': ' '}, regex = True)     # remove non alphabet\n",
        "    x_data = x_data.apply(lambda review: [w for w in review.split() if w not in english_stops])  # remove stop words\n",
        "    x_data = x_data.apply(lambda review: [w.lower() for w in review])   # lower case\n",
        "    \n",
        "    # ENCODE SENTIMENT -> 0 & 1\n",
        "    y_data = y_data.replace('positive', 1)\n",
        "    y_data = y_data.replace('negative', 0)\n",
        "\n",
        "    return x_data, y_data\n",
        "\n",
        "x_data, y_data = load_dataset()\n",
        "\n",
        "print('Reviews')\n",
        "print(x_data, '\\n')\n",
        "print('Sentiment')\n",
        "print(y_data)"
      ],
      "execution_count": 22,
      "outputs": [
        {
          "output_type": "stream",
          "name": "stdout",
          "text": [
            "Reviews\n",
            "0        [one, reviewers, mentioned, watching, oz, epis...\n",
            "1        [a, wonderful, little, production, the, filmin...\n",
            "2        [i, thought, wonderful, way, spend, time, hot,...\n",
            "3        [basically, family, little, boy, jake, thinks,...\n",
            "4        [petter, mattei, love, time, money, visually, ...\n",
            "                               ...                        \n",
            "49995    [i, thought, movie, right, good, job, it, crea...\n",
            "49996    [bad, plot, bad, dialogue, bad, acting, idioti...\n",
            "49997    [i, catholic, taught, parochial, elementary, s...\n",
            "49998    [i, going, disagree, previous, comment, side, ...\n",
            "49999    [no, one, expects, star, trek, movies, high, a...\n",
            "Name: review, Length: 50000, dtype: object \n",
            "\n",
            "Sentiment\n",
            "0        1\n",
            "1        1\n",
            "2        1\n",
            "3        0\n",
            "4        1\n",
            "        ..\n",
            "49995    1\n",
            "49996    0\n",
            "49997    0\n",
            "49998    0\n",
            "49999    0\n",
            "Name: sentiment, Length: 50000, dtype: int64\n"
          ]
        }
      ]
    },
    {
      "cell_type": "code",
      "metadata": {
        "colab": {
          "base_uri": "https://localhost:8080/"
        },
        "id": "9glESAjMUeUY",
        "outputId": "c884409b-d126-425f-c74d-b6c84a2bba7c"
      },
      "source": [
        "x_train, x_test, y_train, y_test = train_test_split(x_data, y_data, test_size = 0.2)\n",
        "\n",
        "print('Train Set')\n",
        "print(x_train, '\\n')\n",
        "print(x_test, '\\n')\n",
        "print('Test Set')\n",
        "print(y_train, '\\n')\n",
        "print(y_test)"
      ],
      "execution_count": 23,
      "outputs": [
        {
          "output_type": "stream",
          "name": "stdout",
          "text": [
            "Train Set\n",
            "19875    [i, admit, great, film, it, practically, screa...\n",
            "13686    [the, good, news, imdb, movie, bad, compelled,...\n",
            "33553    [i, really, liked, summerslam, due, look, aren...\n",
            "48439    [a, tour, deforce, ok, kid, plays, oliver, bit...\n",
            "11504    [i, guess, remember, nicole, eggert, little, g...\n",
            "                               ...                        \n",
            "33441    [i, seen, fine, movie, years, i, entering, com...\n",
            "7033     [to, honest, i, idea, movie, i, started, that,...\n",
            "40031    [over, christmas, break, group, college, frien...\n",
            "23526    [this, movie, one, ages, first, i, say, seeing...\n",
            "22548    [serials, short, subjects, originally, shown, ...\n",
            "Name: review, Length: 40000, dtype: object \n",
            "\n",
            "14180    [these, two, men, went, thru, hell, beyond, pr...\n",
            "44876    [the, shop, around, corner, pleasant, romantic...\n",
            "12354    [i, know, movie, everyone, i, push, opinions, ...\n",
            "18915    [i, enjoy, film, eraser, whatsoever, it, awful...\n",
            "26355    [the, sun, shining, wet, play, i, went, movies...\n",
            "                               ...                        \n",
            "46730    [i, first, saw, film, accidentally, showed, tv...\n",
            "47553    [this, first, time, writer, director, comes, a...\n",
            "47589    [what, lovely, heart, warming, television, mov...\n",
            "46377    [wow, this, movie, really, really, sucks, nuff...\n",
            "15482    [the, italians, undeniable, masters, questiona...\n",
            "Name: review, Length: 10000, dtype: object \n",
            "\n",
            "Test Set\n",
            "19875    0\n",
            "13686    0\n",
            "33553    1\n",
            "48439    1\n",
            "11504    0\n",
            "        ..\n",
            "33441    1\n",
            "7033     1\n",
            "40031    0\n",
            "23526    1\n",
            "22548    1\n",
            "Name: sentiment, Length: 40000, dtype: int64 \n",
            "\n",
            "14180    1\n",
            "44876    1\n",
            "12354    1\n",
            "18915    0\n",
            "26355    0\n",
            "        ..\n",
            "46730    1\n",
            "47553    1\n",
            "47589    1\n",
            "46377    0\n",
            "15482    0\n",
            "Name: sentiment, Length: 10000, dtype: int64\n"
          ]
        }
      ]
    },
    {
      "cell_type": "code",
      "metadata": {
        "id": "qrBU6UfwUuG_"
      },
      "source": [
        "def get_max_length():\n",
        "  review_length = []\n",
        "  for review in x_train:\n",
        "    review_length.append(len(review))\n",
        "  return int(np.ceil(np.mean(review_length)))"
      ],
      "execution_count": 24,
      "outputs": []
    },
    {
      "cell_type": "code",
      "metadata": {
        "colab": {
          "base_uri": "https://localhost:8080/"
        },
        "id": "KwM5IoREU-sV",
        "outputId": "d8144f47-e95b-408a-82b0-a58d03cdb252"
      },
      "source": [
        "token = Tokenizer(lower=False)    # no need lower, because already lowered the data in load_data()\n",
        "token.fit_on_texts(x_train)\n",
        "x_train = token.texts_to_sequences(x_train)\n",
        "x_test = token.texts_to_sequences(x_test)\n",
        "\n",
        "max_length = get_max_length()\n",
        "\n",
        "x_train = pad_sequences(x_train, maxlen=max_length, padding='post', truncating='post')\n",
        "x_test = pad_sequences(x_test, maxlen=max_length, padding='post', truncating='post')\n",
        "\n",
        "total_words = len(token.word_index) + 1   # add 1 because of 0 padding\n",
        "\n",
        "print('Encoded X Train\\n', x_train, '\\n')\n",
        "print('Encoded X Test\\n', x_test, '\\n')\n",
        "print('Maximum review length: ', max_length)"
      ],
      "execution_count": 25,
      "outputs": [
        {
          "output_type": "stream",
          "name": "stdout",
          "text": [
            "Encoded X Train\n",
            " [[   1  883   20 ...   45  170  377]\n",
            " [   2    9 1382 ...   20   29    4]\n",
            " [   1   13  329 ...    0    0    0]\n",
            " ...\n",
            " [2518 1065  925 ...    2   44   90]\n",
            " [   8    3    5 ... 1634    4  137]\n",
            " [8073  247 3726 ...    0    0    0]] \n",
            "\n",
            "Encoded X Test\n",
            " [[ 743   36  238 ...    0    0    0]\n",
            " [   2 1844   93 ...  116 1289   97]\n",
            " [   1   47    3 ...    0    0    0]\n",
            " ...\n",
            " [ 106 1216  390 ...    0    0    0]\n",
            " [1217    8    3 ...  610 2248    7]\n",
            " [   2 7527 9486 ... 9513 1132  718]] \n",
            "\n",
            "Maximum review length:  130\n"
          ]
        }
      ]
    },
    {
      "cell_type": "code",
      "metadata": {
        "colab": {
          "base_uri": "https://localhost:8080/"
        },
        "id": "B-l9uPa1VbY_",
        "outputId": "c2656b7b-450e-4638-ef97-892d9773e1c4"
      },
      "source": [
        "EMBED_DIM = 32\n",
        "LSTM_OUT = 64\n",
        "\n",
        "model = Sequential()\n",
        "model.add(Embedding(total_words, EMBED_DIM, input_length = max_length))\n",
        "model.add(LSTM(LSTM_OUT))\n",
        "model.add(Dense(1, activation='sigmoid'))\n",
        "model.compile(optimizer = 'adam', loss = 'binary_crossentropy', metrics = ['accuracy'])\n",
        "\n",
        "print(model.summary())\n"
      ],
      "execution_count": 26,
      "outputs": [
        {
          "output_type": "stream",
          "name": "stdout",
          "text": [
            "Model: \"sequential_1\"\n",
            "_________________________________________________________________\n",
            " Layer (type)                Output Shape              Param #   \n",
            "=================================================================\n",
            " embedding (Embedding)       (None, 130, 32)           2955168   \n",
            "                                                                 \n",
            " lstm (LSTM)                 (None, 64)                24832     \n",
            "                                                                 \n",
            " dense_3 (Dense)             (None, 1)                 65        \n",
            "                                                                 \n",
            "=================================================================\n",
            "Total params: 2,980,065\n",
            "Trainable params: 2,980,065\n",
            "Non-trainable params: 0\n",
            "_________________________________________________________________\n",
            "None\n"
          ]
        }
      ]
    },
    {
      "cell_type": "code",
      "metadata": {
        "id": "_G7Qw6NCVfMt"
      },
      "source": [
        "checkpoint = ModelCheckpoint(\n",
        "    '/content/drive/MyDrive/LSTM.h5',\n",
        "    monitor='accuracy',\n",
        "    save_best_only=True,\n",
        "    verbose=1\n",
        ")"
      ],
      "execution_count": 27,
      "outputs": []
    },
    {
      "cell_type": "code",
      "metadata": {
        "colab": {
          "base_uri": "https://localhost:8080/"
        },
        "id": "4YE4E73gViit",
        "outputId": "9ff8836e-957b-497e-d602-3061d3462ae3"
      },
      "source": [
        "model.fit(x_train, y_train, batch_size = 128, epochs = 10, callbacks=[checkpoint])"
      ],
      "execution_count": 28,
      "outputs": [
        {
          "output_type": "stream",
          "name": "stdout",
          "text": [
            "Epoch 1/10\n",
            "312/313 [============================>.] - ETA: 0s - loss: 0.4891 - accuracy: 0.7288\n",
            "Epoch 00001: accuracy improved from -inf to 0.72900, saving model to /content/drive/MyDrive/LSTM.h5\n",
            "313/313 [==============================] - 14s 32ms/step - loss: 0.4889 - accuracy: 0.7290\n",
            "Epoch 2/10\n",
            "313/313 [==============================] - ETA: 0s - loss: 0.2272 - accuracy: 0.9188\n",
            "Epoch 00002: accuracy improved from 0.72900 to 0.91882, saving model to /content/drive/MyDrive/LSTM.h5\n",
            "313/313 [==============================] - 9s 29ms/step - loss: 0.2272 - accuracy: 0.9188\n",
            "Epoch 3/10\n",
            "313/313 [==============================] - ETA: 0s - loss: 0.1297 - accuracy: 0.9603\n",
            "Epoch 00003: accuracy improved from 0.91882 to 0.96025, saving model to /content/drive/MyDrive/LSTM.h5\n",
            "313/313 [==============================] - 9s 30ms/step - loss: 0.1297 - accuracy: 0.9603\n",
            "Epoch 4/10\n",
            "313/313 [==============================] - ETA: 0s - loss: 0.0831 - accuracy: 0.9775\n",
            "Epoch 00004: accuracy improved from 0.96025 to 0.97745, saving model to /content/drive/MyDrive/LSTM.h5\n",
            "313/313 [==============================] - 9s 28ms/step - loss: 0.0831 - accuracy: 0.9775\n",
            "Epoch 5/10\n",
            "312/313 [============================>.] - ETA: 0s - loss: 0.0622 - accuracy: 0.9834\n",
            "Epoch 00005: accuracy improved from 0.97745 to 0.98343, saving model to /content/drive/MyDrive/LSTM.h5\n",
            "313/313 [==============================] - 10s 31ms/step - loss: 0.0622 - accuracy: 0.9834\n",
            "Epoch 6/10\n",
            "312/313 [============================>.] - ETA: 0s - loss: 0.0467 - accuracy: 0.9884\n",
            "Epoch 00006: accuracy improved from 0.98343 to 0.98845, saving model to /content/drive/MyDrive/LSTM.h5\n",
            "313/313 [==============================] - 9s 27ms/step - loss: 0.0467 - accuracy: 0.9884\n",
            "Epoch 7/10\n",
            "312/313 [============================>.] - ETA: 0s - loss: 0.0457 - accuracy: 0.9880\n",
            "Epoch 00007: accuracy did not improve from 0.98845\n",
            "313/313 [==============================] - 8s 27ms/step - loss: 0.0458 - accuracy: 0.9880\n",
            "Epoch 8/10\n",
            "312/313 [============================>.] - ETA: 0s - loss: 0.0372 - accuracy: 0.9914\n",
            "Epoch 00008: accuracy improved from 0.98845 to 0.99140, saving model to /content/drive/MyDrive/LSTM.h5\n",
            "313/313 [==============================] - 9s 28ms/step - loss: 0.0372 - accuracy: 0.9914\n",
            "Epoch 9/10\n",
            "313/313 [==============================] - ETA: 0s - loss: 0.0307 - accuracy: 0.9924\n",
            "Epoch 00009: accuracy improved from 0.99140 to 0.99238, saving model to /content/drive/MyDrive/LSTM.h5\n",
            "313/313 [==============================] - 9s 27ms/step - loss: 0.0307 - accuracy: 0.9924\n",
            "Epoch 10/10\n",
            "312/313 [============================>.] - ETA: 0s - loss: 0.0273 - accuracy: 0.9940\n",
            "Epoch 00010: accuracy improved from 0.99238 to 0.99400, saving model to /content/drive/MyDrive/LSTM.h5\n",
            "313/313 [==============================] - 10s 31ms/step - loss: 0.0273 - accuracy: 0.9940\n"
          ]
        },
        {
          "output_type": "execute_result",
          "data": {
            "text/plain": [
              "<keras.callbacks.History at 0x7f6e08417790>"
            ]
          },
          "metadata": {},
          "execution_count": 28
        }
      ]
    },
    {
      "cell_type": "code",
      "metadata": {
        "colab": {
          "base_uri": "https://localhost:8080/"
        },
        "id": "dpuRtYgIVo_W",
        "outputId": "2e731527-436b-4163-a4ac-37ee8dc2fec0"
      },
      "source": [
        "# y_pred=model.predict(x_test) \n",
        "# y_pred=np.argmax(y_pred,axis=1)\n",
        "y_pred = (model.predict(x_test) > 0.5).astype(\"int32\")\n",
        "\n",
        "\n",
        "# y_pred = model.predict_classes(x_test, batch_size = 128)\n",
        "true = 0\n",
        "for i, y in enumerate(y_test):\n",
        "  if y == y_pred[i]:\n",
        "    true += 1\n",
        "print('Correct Prediction: {}'.format(true))\n",
        "print('Wrong Prediction: {}'.format(len(y_pred) - true))\n",
        "print('Accuracy: {}'.format(true/len(y_pred)*100))\n",
        "\n"
      ],
      "execution_count": 29,
      "outputs": [
        {
          "output_type": "stream",
          "name": "stdout",
          "text": [
            "Correct Prediction: 8644\n",
            "Wrong Prediction: 1356\n",
            "Accuracy: 86.44\n"
          ]
        }
      ]
    },
    {
      "cell_type": "code",
      "metadata": {
        "id": "o8UZ8QMRcP9a"
      },
      "source": [
        "def findsentiment(review):\n",
        "  loaded_model = load_model('/content/drive/MyDrive/LSTM.h5')\n",
        "  regex = re.compile(r'[^a-zA-Z\\s]')\n",
        "  review = regex.sub('', review)\n",
        "  words = review.split(' ')\n",
        "  filtered = [w for w in words if w not in english_stops]\n",
        "  filtered = ' '.join(filtered)\n",
        "  filtered = [filtered.lower()]\n",
        "  tokenize_words = token.texts_to_sequences(filtered)\n",
        "  tokenize_words = pad_sequences(tokenize_words, maxlen=max_length, padding='post', truncating='post')\n",
        "  result = loaded_model.predict(tokenize_words)\n",
        "  if result >= 0.5:\n",
        "    return '😤😤'\n",
        "  return '😁🤩🥳'\n",
        "\n"
      ],
      "execution_count": 34,
      "outputs": []
    },
    {
      "cell_type": "code",
      "metadata": {
        "colab": {
          "base_uri": "https://localhost:8080/",
          "height": 1000
        },
        "id": "u1WPSpiio7jS",
        "outputId": "64e1b0d9-90fc-4f91-88fa-263b0158a651"
      },
      "source": [
        "!pip install gradio\n",
        "import gradio\n",
        "gradio.Interface(findsentiment,inputs='text',outputs='text').launch(share=True)"
      ],
      "execution_count": 35,
      "outputs": [
        {
          "output_type": "stream",
          "name": "stdout",
          "text": [
            "Requirement already satisfied: gradio in /usr/local/lib/python3.7/dist-packages (2.7.5.2)\n",
            "Requirement already satisfied: requests in /usr/local/lib/python3.7/dist-packages (from gradio) (2.23.0)\n",
            "Requirement already satisfied: uvicorn in /usr/local/lib/python3.7/dist-packages (from gradio) (0.17.4)\n",
            "Requirement already satisfied: markdown2 in /usr/local/lib/python3.7/dist-packages (from gradio) (2.4.2)\n",
            "Requirement already satisfied: pandas in /usr/local/lib/python3.7/dist-packages (from gradio) (1.3.5)\n",
            "Requirement already satisfied: aiohttp in /usr/local/lib/python3.7/dist-packages (from gradio) (3.8.1)\n",
            "Requirement already satisfied: numpy in /usr/local/lib/python3.7/dist-packages (from gradio) (1.19.5)\n",
            "Requirement already satisfied: python-multipart in /usr/local/lib/python3.7/dist-packages (from gradio) (0.0.5)\n",
            "Requirement already satisfied: analytics-python in /usr/local/lib/python3.7/dist-packages (from gradio) (1.4.0)\n",
            "Requirement already satisfied: paramiko in /usr/local/lib/python3.7/dist-packages (from gradio) (2.9.2)\n",
            "Requirement already satisfied: pydub in /usr/local/lib/python3.7/dist-packages (from gradio) (0.25.1)\n",
            "Requirement already satisfied: pycryptodome in /usr/local/lib/python3.7/dist-packages (from gradio) (3.14.1)\n",
            "Requirement already satisfied: matplotlib in /usr/local/lib/python3.7/dist-packages (from gradio) (3.2.2)\n",
            "Requirement already satisfied: fastapi in /usr/local/lib/python3.7/dist-packages (from gradio) (0.73.0)\n",
            "Requirement already satisfied: pillow in /usr/local/lib/python3.7/dist-packages (from gradio) (7.1.2)\n",
            "Requirement already satisfied: ffmpy in /usr/local/lib/python3.7/dist-packages (from gradio) (0.3.0)\n",
            "Requirement already satisfied: typing-extensions>=3.7.4 in /usr/local/lib/python3.7/dist-packages (from aiohttp->gradio) (3.10.0.2)\n",
            "Requirement already satisfied: async-timeout<5.0,>=4.0.0a3 in /usr/local/lib/python3.7/dist-packages (from aiohttp->gradio) (4.0.2)\n",
            "Requirement already satisfied: yarl<2.0,>=1.0 in /usr/local/lib/python3.7/dist-packages (from aiohttp->gradio) (1.7.2)\n",
            "Requirement already satisfied: frozenlist>=1.1.1 in /usr/local/lib/python3.7/dist-packages (from aiohttp->gradio) (1.3.0)\n",
            "Requirement already satisfied: multidict<7.0,>=4.5 in /usr/local/lib/python3.7/dist-packages (from aiohttp->gradio) (6.0.2)\n",
            "Requirement already satisfied: asynctest==0.13.0 in /usr/local/lib/python3.7/dist-packages (from aiohttp->gradio) (0.13.0)\n",
            "Requirement already satisfied: attrs>=17.3.0 in /usr/local/lib/python3.7/dist-packages (from aiohttp->gradio) (21.4.0)\n",
            "Requirement already satisfied: charset-normalizer<3.0,>=2.0 in /usr/local/lib/python3.7/dist-packages (from aiohttp->gradio) (2.0.11)\n",
            "Requirement already satisfied: aiosignal>=1.1.2 in /usr/local/lib/python3.7/dist-packages (from aiohttp->gradio) (1.2.0)\n",
            "Requirement already satisfied: idna>=2.0 in /usr/local/lib/python3.7/dist-packages (from yarl<2.0,>=1.0->aiohttp->gradio) (2.10)\n",
            "Requirement already satisfied: six>=1.5 in /usr/local/lib/python3.7/dist-packages (from analytics-python->gradio) (1.15.0)\n",
            "Requirement already satisfied: backoff==1.10.0 in /usr/local/lib/python3.7/dist-packages (from analytics-python->gradio) (1.10.0)\n",
            "Requirement already satisfied: monotonic>=1.5 in /usr/local/lib/python3.7/dist-packages (from analytics-python->gradio) (1.6)\n",
            "Requirement already satisfied: python-dateutil>2.1 in /usr/local/lib/python3.7/dist-packages (from analytics-python->gradio) (2.8.2)\n",
            "Requirement already satisfied: urllib3!=1.25.0,!=1.25.1,<1.26,>=1.21.1 in /usr/local/lib/python3.7/dist-packages (from requests->gradio) (1.24.3)\n",
            "Requirement already satisfied: certifi>=2017.4.17 in /usr/local/lib/python3.7/dist-packages (from requests->gradio) (2021.10.8)\n",
            "Requirement already satisfied: chardet<4,>=3.0.2 in /usr/local/lib/python3.7/dist-packages (from requests->gradio) (3.0.4)\n",
            "Requirement already satisfied: pydantic!=1.7,!=1.7.1,!=1.7.2,!=1.7.3,!=1.8,!=1.8.1,<2.0.0,>=1.6.2 in /usr/local/lib/python3.7/dist-packages (from fastapi->gradio) (1.9.0)\n",
            "Requirement already satisfied: starlette==0.17.1 in /usr/local/lib/python3.7/dist-packages (from fastapi->gradio) (0.17.1)\n",
            "Requirement already satisfied: anyio<4,>=3.0.0 in /usr/local/lib/python3.7/dist-packages (from starlette==0.17.1->fastapi->gradio) (3.5.0)\n",
            "Requirement already satisfied: sniffio>=1.1 in /usr/local/lib/python3.7/dist-packages (from anyio<4,>=3.0.0->starlette==0.17.1->fastapi->gradio) (1.2.0)\n",
            "Requirement already satisfied: cycler>=0.10 in /usr/local/lib/python3.7/dist-packages (from matplotlib->gradio) (0.11.0)\n",
            "Requirement already satisfied: pyparsing!=2.0.4,!=2.1.2,!=2.1.6,>=2.0.1 in /usr/local/lib/python3.7/dist-packages (from matplotlib->gradio) (3.0.7)\n",
            "Requirement already satisfied: kiwisolver>=1.0.1 in /usr/local/lib/python3.7/dist-packages (from matplotlib->gradio) (1.3.2)\n",
            "Requirement already satisfied: pytz>=2017.3 in /usr/local/lib/python3.7/dist-packages (from pandas->gradio) (2018.9)\n",
            "Requirement already satisfied: pynacl>=1.0.1 in /usr/local/lib/python3.7/dist-packages (from paramiko->gradio) (1.5.0)\n",
            "Requirement already satisfied: cryptography>=2.5 in /usr/local/lib/python3.7/dist-packages (from paramiko->gradio) (36.0.1)\n",
            "Requirement already satisfied: bcrypt>=3.1.3 in /usr/local/lib/python3.7/dist-packages (from paramiko->gradio) (3.2.0)\n",
            "Requirement already satisfied: cffi>=1.1 in /usr/local/lib/python3.7/dist-packages (from bcrypt>=3.1.3->paramiko->gradio) (1.15.0)\n",
            "Requirement already satisfied: pycparser in /usr/local/lib/python3.7/dist-packages (from cffi>=1.1->bcrypt>=3.1.3->paramiko->gradio) (2.21)\n",
            "Requirement already satisfied: click>=7.0 in /usr/local/lib/python3.7/dist-packages (from uvicorn->gradio) (7.1.2)\n",
            "Requirement already satisfied: asgiref>=3.4.0 in /usr/local/lib/python3.7/dist-packages (from uvicorn->gradio) (3.5.0)\n",
            "Requirement already satisfied: h11>=0.8 in /usr/local/lib/python3.7/dist-packages (from uvicorn->gradio) (0.13.0)\n",
            "Colab notebook detected. To show errors in colab notebook, set `debug=True` in `launch()`\n",
            "Running on public URL: https://39303.gradio.app\n",
            "\n",
            "This share link expires in 72 hours. For free permanent hosting, check out Spaces (https://huggingface.co/spaces)\n"
          ]
        },
        {
          "output_type": "display_data",
          "data": {
            "text/html": [
              "\n",
              "        <iframe\n",
              "            width=\"900\"\n",
              "            height=\"500\"\n",
              "            src=\"https://39303.gradio.app\"\n",
              "            frameborder=\"0\"\n",
              "            allowfullscreen\n",
              "        ></iframe>\n",
              "        "
            ],
            "text/plain": [
              "<IPython.lib.display.IFrame at 0x7f6d151fb250>"
            ]
          },
          "metadata": {}
        },
        {
          "output_type": "execute_result",
          "data": {
            "text/plain": [
              "(<fastapi.applications.FastAPI at 0x7f6d1ceafbd0>,\n",
              " 'http://127.0.0.1:7861/',\n",
              " 'https://39303.gradio.app')"
            ]
          },
          "metadata": {},
          "execution_count": 35
        }
      ]
    },
    {
      "cell_type": "code",
      "metadata": {
        "colab": {
          "base_uri": "https://localhost:8080/",
          "height": 427
        },
        "id": "5Y5HjSt9NC_Z",
        "outputId": "88c4fac8-c890-490e-c108-61acc4158521"
      },
      "source": [
        "import numpy as np \n",
        "import matplotlib.pyplot as plt \n",
        "  \n",
        "\n",
        "Approach = ['Acurracy-Naive Bayes Approach', 'Acurracy-ANN Approach','Accuracy-Recurrent Neural Network'] \n",
        "  \n",
        "data = [0.7745,0.8375,0.8539]     \n",
        "    \n",
        "# Creating dataset \n",
        "\n",
        "  \n",
        "# Creating explode data \n",
        "explode = (0.1, 0.05,0.03) \n",
        "  \n",
        "# Creating color parameters \n",
        "colors = ( \"black\", \"orange\",\"yellow\") \n",
        "  \n",
        "# Wedge properties \n",
        "wp = { 'linewidth' : 1, 'edgecolor' : \"green\" } \n",
        "  \n",
        "# Creating autocpt arguments \n",
        "def func(pct, allvalues): \n",
        "    absolute = int(pct / 100.*np.sum(allvalues)) \n",
        "    return \"{:.1f}%\\n\".format(pct, absolute) \n",
        "  \n",
        "# Creating plot \n",
        "fig, ax = plt.subplots(figsize =(10, 7)) \n",
        "wedges, texts, autotexts = ax.pie(data,  \n",
        "                                  autopct = lambda pct: func(pct, data), \n",
        "                                  explode = explode,  \n",
        "                                  labels = Approach, \n",
        "                                  shadow = True, \n",
        "                                  colors = colors, \n",
        "                                  startangle = 90, \n",
        "                                  wedgeprops = wp, \n",
        "                                  textprops = dict(color =\"red\")) \n",
        "  \n",
        "# Adding legend \n",
        "ax.legend(wedges,data, \n",
        "          title =\"TOTAL ACCURACY\", \n",
        "          loc =\"center left\", \n",
        "          bbox_to_anchor =(1.5, 0, 0.5, 1)) \n",
        "  \n",
        "plt.setp(autotexts, size = 8, weight =\"bold\") \n",
        "ax.set_title(\"Customizing pie chart\") \n",
        "  \n",
        "# show plot \n",
        "plt.show() \n"
      ],
      "execution_count": 33,
      "outputs": [
        {
          "output_type": "display_data",
          "data": {
            "image/png": "[encoded data removed]",
            "text/plain": [
              "<Figure size 720x504 with 1 Axes>"
            ]
          },
          "metadata": {}
        }
      ]
    },
    {
      "cell_type": "code",
      "metadata": {
        "id": "3dK7rzLvXG1j"
      },
      "source": [
        ""
      ],
      "execution_count": null,
      "outputs": []
    }
  ]
}